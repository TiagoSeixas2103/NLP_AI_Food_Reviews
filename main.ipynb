{
 "cells": [
  {
   "cell_type": "code",
   "execution_count": 1,
   "metadata": {},
   "outputs": [],
   "source": [
    "from sklearn.feature_extraction.text import CountVectorizer\n",
    "from sklearn.decomposition import NMF\n",
    "from sklearn.model_selection import train_test_split\n",
    "import numpy as np\n",
    "import matplotlib.pyplot as plt\n",
    "import pandas as pd\n",
    "from sklearn.pipeline import Pipeline\n",
    "from sklearn.linear_model import LogisticRegression\n",
    "from nltk.stem import SnowballStemmer\n",
    "from nltk.stem import WordNetLemmatizer\n",
    "from tqdm import tqdm\n",
    "\n",
    "from sklearn.metrics import accuracy_score, balanced_accuracy_score\n",
    "from joblib import Parallel, delayed, cpu_count\n",
    "\n",
    "import pandas as pd\n",
    "\n",
    "\n"
   ]
  },
  {
   "cell_type": "code",
   "execution_count": 2,
   "metadata": {},
   "outputs": [],
   "source": [
    "def train(i):\n",
    "    df = pd.read_csv('Reviews.csv').sample(i*1000)\n",
    "    stemmer = SnowballStemmer(\"english\")\n",
    "    X = df['Text']\n",
    "    X_stemmed = X.apply(lambda x: ' '.join([stemmer.stem(p) for p in x.lower().split()]))\n",
    "    lemmatizer = WordNetLemmatizer()\n",
    "    X_lemmatized = X.apply(lambda y: ' '.join([lemmatizer.lemmatize(q) for q in y.lower().split()]))\n",
    "    y = df['Score']\n",
    "    X_train, X_test, y_train, y_test = train_test_split(X_lemmatized, y, test_size=0.2, random_state=0)\n",
    "\n",
    "    pipeline = Pipeline([('vectorizer', CountVectorizer(binary=True)),\n",
    "                                    ('model', LogisticRegression(max_iter=1000))])\n",
    "\n",
    "    pipeline.fit(X_train, y_train)\n",
    "    y_pred = pipeline.predict(X_test)\n",
    "    accuracy_test = balanced_accuracy_score(y_test, y_pred)\n",
    "    y_pred_train = pipeline.predict(X_train)\n",
    "    accuracy_train = balanced_accuracy_score(y_train, y_pred_train)\n",
    "    return (i*1000, accuracy_test), (i*1000, accuracy_train)"
   ]
  },
  {
   "cell_type": "code",
   "execution_count": null,
   "metadata": {},
   "outputs": [],
   "source": [
    "num_processors = cpu_count()\n",
    "results = Parallel(n_jobs=num_processors)(delayed(train)(i) for i in tqdm(range(1, 569)))\n",
    "print(\"All processes are done\")"
   ]
  },
  {
   "cell_type": "code",
   "execution_count": null,
   "metadata": {},
   "outputs": [],
   "source": [
    "x_list_test = []\n",
    "y_list_test = []\n",
    "x_list_train = []\n",
    "y_list_train = []\n",
    "x_list_previous = []\n",
    "y_list_previous = []\n",
    "\n",
    "data = {\n",
    "    'sample_size': [0],\n",
    "    'accuracy_test': [0.0],\n",
    "    'accuracy_train': [1.0]\n",
    "}\n",
    "df_to_save = pd.DataFrame(data)\n",
    "\n",
    "for index in tqdm(range(0, len(results))):\n",
    "    x_list_test.append(results[index][0][0])\n",
    "    y_list_test.append(results[index][0][1])\n",
    "    x_list_train.append(results[index][1][0])\n",
    "    y_list_train.append(results[index][1][1])\n",
    "    x_list_previous.append(results[index][0][0])\n",
    "    y_list_previous.append(0.7982)\n",
    "\n",
    "    df_to_save.loc[len(df_to_save)] = [results[index][0][0], results[index][0][1], results[index][1][1]]\n",
    "\n",
    "df_to_save.to_csv('results_AI.csv', index=False)\n",
    "print('CSV file \"results_AI.csv\" has been updated successfully.')\n",
    "\n",
    "plt.plot(x_list_test, y_list_test, 'r')\n",
    "plt.plot(x_list_train, y_list_train, 'b')\n",
    "plt.plot(x_list_previous, y_list_previous, 'g')\n",
    "\n",
    "plt.xlabel('Sample Size')\n",
    "plt.ylabel('Mean Accuracy')\n",
    "\n",
    "plt.savefig('graph.png')"
   ]
  },
  {
   "cell_type": "code",
   "execution_count": null,
   "metadata": {},
   "outputs": [],
   "source": [
    "# Using accuracy_score:\n",
    "\n",
    "# X: 0.6140000000000001\n",
    "# X_stemmed mean score: 0.615\n",
    "# X_lemmatized mean score: 0.61375\n",
    "# X_lemmatized of X_stemmed mean score: 0.6147500000000001\n",
    "\n",
    "# Using balanced_accuracy_score:\n",
    "\n",
    "# X_stemmed mean score: 0.19892086330935252\n",
    "# X_lemmatized mean score: 0.1998561151079137\n",
    "# X_lemmatized of X_stemmed mean score: 0.19899280575539569\n",
    "\n",
    "# Without Topic Modeling\n",
    "# X_lemmatized mean score: 0.23873887902664884\n",
    "\n",
    "sum_accuracies = 0\n",
    "for i in results:\n",
    "    sum_accuracies += i[0][1]\n",
    "\n",
    "mean_accuracy = sum_accuracies/10\n",
    "print(mean_accuracy)"
   ]
  }
 ],
 "metadata": {
  "kernelspec": {
   "display_name": "base",
   "language": "python",
   "name": "python3"
  },
  "language_info": {
   "codemirror_mode": {
    "name": "ipython",
    "version": 3
   },
   "file_extension": ".py",
   "mimetype": "text/x-python",
   "name": "python",
   "nbconvert_exporter": "python",
   "pygments_lexer": "ipython3",
   "version": "3.9.13"
  }
 },
 "nbformat": 4,
 "nbformat_minor": 2
}
