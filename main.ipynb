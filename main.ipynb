{
 "cells": [
  {
   "cell_type": "code",
   "execution_count": 1,
   "metadata": {},
   "outputs": [],
   "source": [
    "from sklearn.feature_extraction.text import CountVectorizer\n",
    "from sklearn.decomposition import NMF\n",
    "from sklearn.model_selection import train_test_split\n",
    "import numpy as np\n",
    "import matplotlib.pyplot as plt\n",
    "import pandas as pd\n",
    "from sklearn.pipeline import Pipeline\n",
    "from sklearn.linear_model import LogisticRegression\n",
    "from nltk.stem import SnowballStemmer\n",
    "from nltk.stem import WordNetLemmatizer\n",
    "from tqdm import tqdm\n",
    "\n",
    "from sklearn.metrics import accuracy_score, balanced_accuracy_score\n",
    "from joblib import Parallel, delayed, cpu_count\n",
    "\n",
    "import pandas as pd"
   ]
  },
  {
   "cell_type": "code",
   "execution_count": 6,
   "metadata": {},
   "outputs": [],
   "source": [
    "def evaluate():\n",
    "    df = pd.read_csv('Reviews.csv').sample(568000)\n",
    "    X = df['Text']\n",
    "    lemmatizer = WordNetLemmatizer()\n",
    "    X_lemmatized = X.apply(lambda y: ' '.join([lemmatizer.lemmatize(q) for q in y.lower().split()]))\n",
    "    y = df['Score']\n",
    "    X_train, X_test, y_train, y_test = train_test_split(X_lemmatized, y, test_size=0.2, random_state=0)\n",
    "\n",
    "    pipeline = Pipeline([('vectorizer', CountVectorizer(binary=True)),\n",
    "                                    ('model', LogisticRegression(max_iter=1000))])\n",
    "\n",
    "    pipeline.fit(X_train, y_train)\n",
    "    y_pred = pipeline.predict(X_test)\n",
    "    accuracy_test = balanced_accuracy_score(y_test, y_pred)\n",
    "    y_pred_train = pipeline.predict(X_train)\n",
    "    accuracy_train = balanced_accuracy_score(y_train, y_pred_train)\n",
    "    return accuracy_test, accuracy_train, pipeline"
   ]
  },
  {
   "cell_type": "code",
   "execution_count": null,
   "metadata": {},
   "outputs": [],
   "source": [
    "evaluation_results = evaluate()\n",
    "pipeline = evaluation_results[2]\n",
    "print(evaluation_results[0], evaluation_results[1])"
   ]
  },
  {
   "cell_type": "code",
   "execution_count": null,
   "metadata": {},
   "outputs": [],
   "source": [
    "words = pipeline['vectorizer'].get_feature_names_out()\n",
    "coefs = pipeline['model'].coef_\n",
    "classes = pipeline['model'].classes_\n",
    "\n",
    "sorted_coef_indexes = coefs.argsort(axis=1)\n",
    "print(classes)\n",
    "top5words = words[sorted_coef_indexes[0,:20]]\n",
    "print(top5words)\n",
    "top5coefs = coefs[0,sorted_coef_indexes[0,:20]]\n",
    "print(top5coefs)\n",
    "top5words = words[sorted_coef_indexes[0,-20:]]\n",
    "print(top5words)\n",
    "top5coefs = coefs[0,sorted_coef_indexes[0,-20:]]\n",
    "print(top5coefs)"
   ]
  },
  {
   "cell_type": "code",
   "execution_count": 2,
   "metadata": {},
   "outputs": [],
   "source": [
    "def train(i):\n",
    "    df = pd.read_csv('Reviews.csv').sample(i*1000)\n",
    "    X = df['Text']\n",
    "    lemmatizer = WordNetLemmatizer()\n",
    "    X_lemmatized = X.apply(lambda y: ' '.join([lemmatizer.lemmatize(q) for q in y.lower().split()]))\n",
    "    y = df['Score']\n",
    "    X_train, X_test, y_train, y_test = train_test_split(X_lemmatized, y, test_size=0.2, random_state=0)\n",
    "\n",
    "    pipeline = Pipeline([('vectorizer', CountVectorizer(binary=True)),\n",
    "                                    ('model', LogisticRegression(max_iter=1000))])\n",
    "\n",
    "    pipeline.fit(X_train, y_train)\n",
    "    y_pred = pipeline.predict(X_test)\n",
    "    accuracy_test = balanced_accuracy_score(y_test, y_pred)\n",
    "    y_pred_train = pipeline.predict(X_train)\n",
    "    accuracy_train = balanced_accuracy_score(y_train, y_pred_train)\n",
    "    return (i*1000, accuracy_test), (i*1000, accuracy_train)"
   ]
  },
  {
   "cell_type": "code",
   "execution_count": null,
   "metadata": {},
   "outputs": [],
   "source": [
    "num_processors = cpu_count()\n",
    "results = Parallel(n_jobs=num_processors)(delayed(train)(i) for i in tqdm(range(1, 569)))\n",
    "print(\"All processes are done\")"
   ]
  },
  {
   "cell_type": "code",
   "execution_count": null,
   "metadata": {},
   "outputs": [],
   "source": [
    "x_list_test = []\n",
    "y_list_test = []\n",
    "x_list_train = []\n",
    "y_list_train = []\n",
    "x_list_previous = []\n",
    "y_list_previous = []\n",
    "\n",
    "data = {\n",
    "    'sample_size': [0],\n",
    "    'accuracy_test': [0.0],\n",
    "    'accuracy_train': [1.0]\n",
    "}\n",
    "df_to_save = pd.DataFrame(data)\n",
    "\n",
    "for index in tqdm(range(0, len(results))):\n",
    "    x_list_test.append(results[index][0][0])\n",
    "    y_list_test.append(results[index][0][1])\n",
    "    x_list_train.append(results[index][1][0])\n",
    "    y_list_train.append(results[index][1][1])\n",
    "    x_list_previous.append(results[index][0][0])\n",
    "    y_list_previous.append(0.7982)\n",
    "\n",
    "    df_to_save.loc[len(df_to_save)] = [results[index][0][0], results[index][0][1], results[index][1][1]]\n",
    "\n",
    "df_to_save.to_csv('results_AI.csv', index=False)\n",
    "print('CSV file \"results_AI.csv\" has been updated successfully.')\n",
    "\n",
    "plt.plot(x_list_test, y_list_test, 'r')\n",
    "plt.plot(x_list_train, y_list_train, 'b')\n",
    "plt.plot(x_list_previous, y_list_previous, 'g')\n",
    "\n",
    "plt.xlabel('Sample Size')\n",
    "plt.ylabel('Mean Accuracy')\n",
    "\n",
    "plt.savefig('graph.png')"
   ]
  },
  {
   "cell_type": "code",
   "execution_count": 11,
   "metadata": {},
   "outputs": [],
   "source": [
    "def topic():\n",
    "    df = pd.read_csv('Reviews.csv').sample(568000)\n",
    "    X = df['Text']\n",
    "    lemmatizer = WordNetLemmatizer()\n",
    "    X_lemmatized = X.apply(lambda y: ' '.join([lemmatizer.lemmatize(q) for q in y.lower().split()]))\n",
    "    y = df['Score']\n",
    "    X_train, X_test, y_train, y_test = train_test_split(X_lemmatized, y, test_size=0.2, random_state=0)\n",
    "\n",
    "    pipeline = Pipeline([('vectorizer', CountVectorizer(binary=True)),\n",
    "                         ('nmf', NMF(n_components=20)),\n",
    "                         ('model', LogisticRegression(max_iter=1000))])\n",
    "\n",
    "    pipeline.fit(X_train, y_train)\n",
    "    y_pred = pipeline.predict(X_test)\n",
    "    accuracy_test = balanced_accuracy_score(y_test, y_pred)\n",
    "    y_pred_train = pipeline.predict(X_train)\n",
    "    accuracy_train = balanced_accuracy_score(y_train, y_pred_train)\n",
    "    return accuracy_test, accuracy_train, pipeline"
   ]
  },
  {
   "cell_type": "code",
   "execution_count": null,
   "metadata": {},
   "outputs": [],
   "source": [
    "topic_model_results = topic()\n",
    "pipeline = topic_model_results[2]\n",
    "print(topic_model_results[0], topic_model_results[1])"
   ]
  },
  {
   "cell_type": "code",
   "execution_count": null,
   "metadata": {},
   "outputs": [],
   "source": [
    "def print_words_in_topics(nmf, vectorizer):\n",
    "    words = vectorizer.get_feature_names_out()\n",
    "    for idx, topic in enumerate(nmf.components_):\n",
    "        print(f\"Topic {idx}\")\n",
    "        for i in topic.argsort()[-6:]:\n",
    "            print(words[i])\n",
    "        print()\n",
    "    print()\n",
    "    \n",
    "print_words_in_topics(pipeline['nmf'], pipeline['vectorizer'])"
   ]
  }
 ],
 "metadata": {
  "kernelspec": {
   "display_name": "base",
   "language": "python",
   "name": "python3"
  },
  "language_info": {
   "codemirror_mode": {
    "name": "ipython",
    "version": 3
   },
   "file_extension": ".py",
   "mimetype": "text/x-python",
   "name": "python",
   "nbconvert_exporter": "python",
   "pygments_lexer": "ipython3",
   "version": "3.9.13"
  }
 },
 "nbformat": 4,
 "nbformat_minor": 2
}
